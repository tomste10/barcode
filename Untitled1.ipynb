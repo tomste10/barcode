{
  "nbformat": 4,
  "nbformat_minor": 0,
  "metadata": {
    "colab": {
      "provenance": []
    },
    "kernelspec": {
      "name": "python3",
      "display_name": "Python 3"
    },
    "language_info": {
      "name": "python"
    }
  },
  "cells": [
    {
      "cell_type": "code",
      "execution_count": null,
      "metadata": {
        "id": "CDLiMbxxz9iq"
      },
      "outputs": [],
      "source": []
    },
    {
      "cell_type": "code",
      "source": [
        "import barcode\n",
        "from barcode.writer import ImageWriter\n",
        "\n",
        "# Text pro čárový kód, kde \\x1b je ESC (Escape) znak\n",
        "text = \"ABC\\x1bDEF\"\n",
        "\n",
        "# Vytvoření čárového kódu typu Code128\n",
        "code128 = barcode.get_barcode_class('code128')\n",
        "\n",
        "# Generování kódu s textem\n",
        "barcode_image = code128(text, writer=ImageWriter())\n",
        "\n",
        "# Uložení obrázku čárového kódu jako PNG\n",
        "barcode_image.save(\"barcode_with_escape.png\")\n",
        "\n",
        "print(\"Čárový kód byl úspěšně vygenerován a uložen.\")"
      ],
      "metadata": {
        "id": "C6wUO2zO0CD-"
      },
      "execution_count": null,
      "outputs": []
    }
  ]
}